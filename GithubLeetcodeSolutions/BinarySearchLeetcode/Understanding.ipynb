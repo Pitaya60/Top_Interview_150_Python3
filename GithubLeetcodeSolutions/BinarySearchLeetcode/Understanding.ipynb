{
 "cells": [
  {
   "cell_type": "markdown",
   "metadata": {},
   "source": [
    "<h1>BINARY SEARCH</h1>"
   ]
  },
  {
   "cell_type": "markdown",
   "metadata": {},
   "source": [
    "<h3>Video to understand binary search: </h3>\n",
    "<br>https://youtu.be/MFhxShGxHWc?si=UoUstHQx7Y_br0Mk"
   ]
  },
  {
   "cell_type": "markdown",
   "metadata": {},
   "source": [
    "<strong>Binary search</strong> - is a type of search algorithm that sequentially divides a pre-sorted array of data in half to discover the desired element."
   ]
  },
  {
   "cell_type": "markdown",
   "metadata": {},
   "source": [
    "<h2>Binary Search Algorithm:</h2>\n",
    "\n"
   ]
  },
  {
   "cell_type": "markdown",
   "metadata": {},
   "source": [
    "<strong>1.Input Data:</strong>You should have a sorted array of data in which you want to find a specific element. Let's assume you have an array arr and the target element target you're looking for.\n",
    "\n",
    "<br><strong>2.Set Initial Pointers:</strong> Set two pointers, left and right, so that left points to the beginning of the array (0), and right points to the end of the array (len(arr) - 1).\n",
    "\n",
    "<br><strong>3.While left is not greater than right: </strong> This is the main loop of binary search. Perform the following actions within this loop:\n",
    "\n",
    "<br>a. Calculate the middle index mid between left and right using the formula mid = (left + right) // 2.\n",
    "\n",
    "<br>b. Compare arr[mid] with the target:"
   ]
  },
  {
   "cell_type": "markdown",
   "metadata": {},
   "source": [
    " - If `arr[mid]` is equal to `target`, you've found the element, and you can return `mid` as the index of the target element.\n",
    " \n",
    " - If `arr[mid]` is greater than `target`, update `right = mid - 1` to narrow the search area to the left half of the array.\n",
    " \n",
    " - If `arr[mid]` is less than `target`, update `left = mid + 1` to narrow the search area to the right half of the array.\n"
   ]
  },
  {
   "cell_type": "markdown",
   "metadata": {},
   "source": [
    "<br><strong>Exit the Loop:</strong> If the loop exits, and left becomes greater than right, it means the element was not found, and you can return -1 or another value indicating the absence of the element."
   ]
  },
  {
   "cell_type": "markdown",
   "metadata": {},
   "source": [
    "Example:"
   ]
  },
  {
   "cell_type": "code",
   "execution_count": 2,
   "metadata": {},
   "outputs": [
    {
     "name": "stdout",
     "output_type": "stream",
     "text": [
      "Element 7 found at index 3.\n"
     ]
    }
   ],
   "source": [
    "def binary_search(arr, target):\n",
    "    left, right = 0, len(arr) - 1\n",
    "\n",
    "    while left <= right:\n",
    "        mid = (left + right) // 2\n",
    "\n",
    "        if arr[mid] == target:\n",
    "            return mid  # Target found\n",
    "        elif arr[mid] < target:\n",
    "            left = mid + 1\n",
    "        else:\n",
    "            right = mid - 1\n",
    "\n",
    "    return -1  # Target not found\n",
    "\n",
    "# Example usage:\n",
    "arr = [1, 3, 5, 7, 9, 11, 13, 15]\n",
    "target = 7\n",
    "result = binary_search(arr, target)\n",
    "\n",
    "if result != -1:\n",
    "    print(f\"Element {target} found at index {result}.\")\n",
    "else:\n",
    "    print(f\"Element {target} not found in the array.\")\n"
   ]
  }
 ],
 "metadata": {
  "kernelspec": {
   "display_name": "Python 3",
   "language": "python",
   "name": "python3"
  },
  "language_info": {
   "codemirror_mode": {
    "name": "ipython",
    "version": 3
   },
   "file_extension": ".py",
   "mimetype": "text/x-python",
   "name": "python",
   "nbconvert_exporter": "python",
   "pygments_lexer": "ipython3",
   "version": "3.11.4"
  }
 },
 "nbformat": 4,
 "nbformat_minor": 2
}
